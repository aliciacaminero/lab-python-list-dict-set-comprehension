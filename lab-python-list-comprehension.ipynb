{
 "cells": [
  {
   "cell_type": "markdown",
   "id": "25d7736c-ba17-4aff-b6bb-66eba20fbf4e",
   "metadata": {},
   "source": [
    "# Lab | List, Dict and Set Comprehension"
   ]
  },
  {
   "cell_type": "markdown",
   "id": "7dd3cbde-675a-4b81-92c3-f728846dbe06",
   "metadata": {},
   "source": [
    "## Exercise: Managing Customer Orders Optimized with Comprehension"
   ]
  },
  {
   "cell_type": "markdown",
   "id": "5d500160-2fb7-4777-b5e4-09d45ebaf328",
   "metadata": {},
   "source": [
    "In the previous exercise, you developed a program to manage customer orders and inventory. Now, let's take it a step further and incorporate comprehension into your code.\n",
    "\n",
    "Follow the steps below to complete the exercise:\n",
    "\n",
    "1. Review your code from the previous exercise and identify areas where you can apply comprehension to simplify and streamline your code. \n",
    "\n",
    "    - *Hint: Apply it to initialize inventory, updating the inventory and printing the updated inventory.*\n",
    "    \n",
    "    - For example, in initializing the inventory, we could have:\n",
    "    \n",
    "        ```python\n",
    "        def initialize_inventory(products):\n",
    "            inventory = {product: int(input(f\"Enter the quantity of {product}s available: \")) for product in products}\n",
    "            return inventory\n",
    "\n",
    "        ```\n",
    "<br>\n",
    "    \n",
    "    \n",
    "2. Modify the function get_customer_orders so it prompts the user to enter the number of customer orders and gathers the product names using a loop and user input. Use comprehension.\n",
    "\n",
    "3. Add a new function to calculate the total price of the customer order. For each product in customer_orders, prompt the user to enter the price of that product. Use comprehension to calculate the total price. Note: assume that the user can only have 1 unit of each product.\n",
    "\n",
    "4. Modify the update_inventory function to remove the product from the inventory if its quantity becomes zero after fulfilling the customer orders. Use comprehension to filter out the products with a quantity of zero from the inventory.\n",
    "\n",
    "5. Print the total price of the customer order.\n",
    "\n",
    "Your code should produce output similar to the following:\n",
    "\n",
    "```python\n",
    "Enter the quantity of t-shirts available:  5\n",
    "Enter the quantity of mugs available:  4\n",
    "Enter the quantity of hats available:  3\n",
    "Enter the quantity of books available:  2\n",
    "Enter the quantity of keychains available:  1\n",
    "Enter the number of customer orders:  2\n",
    "Enter the name of a product that a customer wants to order:  hat\n",
    "Enter the name of a product that a customer wants to order:  keychain\n",
    "\n",
    "Order Statistics:\n",
    "Total Products Ordered: 2\n",
    "Percentage of Unique Products Ordered: 40.0\n",
    "\n",
    "Updated Inventory:\n",
    "t-shirt: 5\n",
    "mug: 4\n",
    "hat: 2\n",
    "book: 2\n",
    "Enter the price of keychain:  5\n",
    "Enter the price of hat:  10\n",
    "Total Price: 15.0\n",
    "\n",
    "```\n"
   ]
  },
  {
   "cell_type": "code",
   "execution_count": 51,
   "id": "ee056fd3",
   "metadata": {},
   "outputs": [],
   "source": [
    "products = [\"t-shirt\",\"mug\",\"hat\",\"book\",\"keychain\"]"
   ]
  },
  {
   "cell_type": "code",
   "execution_count": 52,
   "id": "52972845",
   "metadata": {},
   "outputs": [],
   "source": [
    "def initialize_inventory(products):\n",
    "    inventory = {product: int(input(f\"Enter the quantity of {product}s available: \")) for product in products}\n",
    "    return inventory"
   ]
  },
  {
   "cell_type": "code",
   "execution_count": 53,
   "id": "e6524969",
   "metadata": {},
   "outputs": [],
   "source": [
    "def get_customer_orders():\n",
    "\n",
    "    customers_orders = {input('Choose a product: ').lower() for product in range(int(input(\"Choose how many products: \")))}\n",
    "    \n",
    "    return customers_orders"
   ]
  },
  {
   "cell_type": "code",
   "execution_count": 54,
   "id": "d86e371f",
   "metadata": {},
   "outputs": [],
   "source": [
    "from functools import reduce\n",
    "\n",
    "def addition(a, b):\n",
    "    return a + b\n",
    "\n",
    "def price_of_products(customers_orders):\n",
    "    price_cust_ord = [int(input(f\"price of {product}: \")) for product in customers_orders]\n",
    "    total_price = reduce(addition, price_cust_ord)\n",
    "    return total_price\n",
    "    "
   ]
  },
  {
   "cell_type": "code",
   "execution_count": 55,
   "id": "4a5b818e",
   "metadata": {},
   "outputs": [],
   "source": [
    "#def update_inventory(inventory, customers_orders):\n",
    " #   {key:value-1 for (key,value) in customers_orders.items() if key in inventory}\n",
    "#    return inventory\n"
   ]
  },
  {
   "cell_type": "code",
   "execution_count": 56,
   "id": "a5615c32",
   "metadata": {},
   "outputs": [],
   "source": [
    "#def update_inventory(inventory, customers_orders):\n",
    "#    {inventory[product] - 1 for product in customers_orders if product in inventory and inventory[product] > 0}\n",
    "#    return inventory\n"
   ]
  },
  {
   "cell_type": "code",
   "execution_count": 57,
   "id": "27616b60",
   "metadata": {},
   "outputs": [],
   "source": [
    "def update_inventory(inventory, customers_orders):\n",
    "    for product in customers_orders:\n",
    "        if product in inventory and inventory[product] > 0:\n",
    "            inventory[product] -= 1\n",
    "\n",
    "    inventory = {key: value for key, value in inventory.items() if value > 0}\n",
    "    return inventory"
   ]
  },
  {
   "cell_type": "code",
   "execution_count": 58,
   "id": "f1c65c03",
   "metadata": {},
   "outputs": [],
   "source": [
    "def calculate_order_statistics(customers_orders, products):\n",
    "\n",
    "    total_products_ordered=len(customers_orders)\n",
    "\n",
    "    total_products = len(products)\n",
    "\n",
    "    percentage_ordered = total_products_ordered / total_products * 100\n",
    "\n",
    "    return percentage_ordered, total_products_ordered"
   ]
  },
  {
   "cell_type": "code",
   "execution_count": 59,
   "id": "f007ec89",
   "metadata": {},
   "outputs": [],
   "source": [
    "def print_order_statistics(percentage_ordered, total_products_ordered):\n",
    "    \n",
    "    print(f'El porcentaje de productos ordenados es: {percentage_ordered}')\n",
    "\n",
    "    print(f'Order statistics \\nTotal products ordered: {total_products_ordered} \\nPercentage of products ordered: {percentage_ordered} %')"
   ]
  },
  {
   "cell_type": "code",
   "execution_count": 60,
   "id": "fff71286",
   "metadata": {},
   "outputs": [
    {
     "name": "stdout",
     "output_type": "stream",
     "text": [
      "El porcentaje de productos ordenados es: 40.0\n",
      "Order statistics \n",
      "Total products ordered: 2 \n",
      "Percentage of products ordered: 40.0 %\n",
      "Update inventory\n",
      "('t-shirt', 2)\n",
      "('mug', 1)\n",
      "('hat', 1)\n",
      "('book', 2)\n",
      "('keychain', 2)\n",
      "Total price: 4\n"
     ]
    }
   ],
   "source": [
    "inventory = initialize_inventory(products)\n",
    "\n",
    "customers_orders = get_customer_orders()\n",
    "\n",
    "update_inventory(inventory, customers_orders)\n",
    "\n",
    "calculate_order_statistics(customers_orders, products)\n",
    "\n",
    "percentage_ordered, total_products_ordered = calculate_order_statistics(customers_orders, products)\n",
    "\n",
    "print_order_statistics(percentage_ordered, total_products_ordered)\n",
    "\n",
    "print('Update inventory', *inventory.items(), sep='\\n')\n",
    "\n",
    "total_price = price_of_products(customers_orders)\n",
    "print(\"Total price:\", total_price)\n",
    "\n"
   ]
  }
 ],
 "metadata": {
  "kernelspec": {
   "display_name": "Python 3 (ipykernel)",
   "language": "python",
   "name": "python3"
  },
  "language_info": {
   "codemirror_mode": {
    "name": "ipython",
    "version": 3
   },
   "file_extension": ".py",
   "mimetype": "text/x-python",
   "name": "python",
   "nbconvert_exporter": "python",
   "pygments_lexer": "ipython3",
   "version": "3.9.6"
  }
 },
 "nbformat": 4,
 "nbformat_minor": 5
}
